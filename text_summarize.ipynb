{
 "cells": [
  {
   "cell_type": "code",
   "execution_count": null,
   "metadata": {},
   "outputs": [
    {
     "name": "stdout",
     "output_type": "stream",
     "text": [
      "Uttar Pradesh Chief Minister Yogi Adityanath opened up on the recent controversy surrounding stand-up comedian Kunal Kamra in an exclusive interview with ANI.\n",
      "\n",
      "Criticising Mr. Kamra, CM Yogi Adityanath said that some people have treated “freedom speech as their birthright to divide” the country further.\n",
      "\n",
      "Also read: Kunal Kamra-Eknath Shinde row highlights\n",
      "\n",
      "“The freedom of expression cannot be used to attack. It is unfortunate that some people considered the freedom of speech as their birthright to divide the country and further deepen divisions,” CM Adityanath said.\n",
      "\n",
      "Further, in a big charge, CM Adityanath has also alleged that Congress and its allies in the INDIA bloc used billionaire George Soros’ money to “influence” the 2024 Lok Sabha elections.\n",
      "\n",
      "Sharpening his attacks, U.P. CM even called this alleged involvement an act by a “traitor.”\n",
      "\n",
      "CM Adityanath said, “They did propaganda and they had not only spread propaganda, but foreign money was also involved in it. George Soros had long ago announced it... I am saying that foreign money was involved in the Lok Sabha elections throughout the country in which Congress and other parties of the INDIA bloc were directly indirectly involved, and through that, they tried to influence the elections. This falls in the category of deshdroh (treason).”\n",
      "\n",
      "The Uttar Pradesh Chief Minister also unleashed a fierce critique of the Congress party over the four percent Minority reservation quota bill, stating that the reservation on the basis of religion by the Congress-led Karnataka Government is an “insult” to Ambedkar’s Constitution. He said, “The reservation on the basis of religion by Karnataka government is an insult to Babasaheb Bhimrao Ambedkar’s Constitution. What all wrong did they not do to the Constitution in 1976?.”\n",
      "\n",
      "“D.K. Shivakumar is saying exactly what he has inherited from Congress’s legacy,” he added.\n"
     ]
    }
   ],
   "source": [
    "from newspaper import Article\n",
    "from transformers import pipeline\n",
    "\n",
    "url = 'https://www.thehindu.com/news/national/uttar-pradesh/freedom-of-expression-cannot-be-used-to-attack-cm-yogi-adityanath-on-kunal-kamra-row/article69374737.ece' \n",
    "article = Article(url)\n",
    "article.download()\n",
    "article.parse()\n",
    "\n",
    "print(article.text)\n",
    "\n",
    "summarizer = pipeline('summarization', model='facebook/barty')"
   ]
  },
  {
   "cell_type": "code",
   "execution_count": null,
   "metadata": {},
   "outputs": [],
   "source": []
  }
 ],
 "metadata": {
  "kernelspec": {
   "display_name": "base",
   "language": "python",
   "name": "python3"
  },
  "language_info": {
   "codemirror_mode": {
    "name": "ipython",
    "version": 3
   },
   "file_extension": ".py",
   "mimetype": "text/x-python",
   "name": "python",
   "nbconvert_exporter": "python",
   "pygments_lexer": "ipython3",
   "version": "3.12.7"
  }
 },
 "nbformat": 4,
 "nbformat_minor": 2
}
